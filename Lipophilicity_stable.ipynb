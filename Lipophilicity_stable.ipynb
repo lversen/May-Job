{
  "cells": [
    {
      "cell_type": "code",
      "execution_count": null,
      "metadata": {
        "id": "b7wxZslnl-L-"
      },
      "outputs": [],
      "source": [
        "import pandas as pd\n",
        "import numpy as np"
      ]
    },
    {
      "cell_type": "code",
      "execution_count": null,
      "metadata": {
        "colab": {
          "base_uri": "https://localhost:8080/"
        },
        "id": "e62Dw65wmQHQ",
        "outputId": "2259cbcd-806e-4d19-e147-5de584d563ff"
      },
      "outputs": [],
      "source": [
        "!pip install torch"
      ]
    },
    {
      "cell_type": "code",
      "execution_count": null,
      "metadata": {
        "colab": {
          "base_uri": "https://localhost:8080/"
        },
        "id": "YBsdZcDFmvcI",
        "outputId": "43f347a6-a639-4cae-f245-50d0bc5896c9"
      },
      "outputs": [],
      "source": [
        "!pip install torch_geometric"
      ]
    },
    {
      "cell_type": "code",
      "execution_count": null,
      "metadata": {
        "id": "Al4CmAGdmNG6"
      },
      "outputs": [],
      "source": [
        "import torch\n",
        "import torch.nn as nn\n",
        "import torch.nn.functional as F\n",
        "from torch_geometric.data import Data, DataLoader\n",
        "from torch_geometric.nn import GATConv\n",
        "from torch_geometric.utils import add_self_loops\n",
        "from sklearn.model_selection import train_test_split"
      ]
    },
    {
      "cell_type": "code",
      "execution_count": null,
      "metadata": {
        "colab": {
          "base_uri": "https://localhost:8080/",
          "height": 73
        },
        "id": "a6_JUAN3m5tI",
        "outputId": "d97378aa-d8f9-4eaf-94fc-ccacb033513e"
      },
      "outputs": [],
      "source": [
        "#from google.colab import files\n",
        "#uploaded = files.upload()"
      ]
    },
    {
      "cell_type": "code",
      "execution_count": null,
      "metadata": {
        "colab": {
          "base_uri": "https://localhost:8080/",
          "height": 206
        },
        "id": "KP54izq5m57o",
        "outputId": "654177b1-84ae-42ad-8ceb-970949eb0551"
      },
      "outputs": [],
      "source": [
        "import pandas as pd\n",
        "\n",
        "# Replace 'your_file.csv' with the name of the file you uploaded\n",
        "df = pd.read_csv('Lipophilicity!.csv')\n",
        "df.head()"
      ]
    },
    {
      "cell_type": "code",
      "execution_count": null,
      "metadata": {
        "colab": {
          "base_uri": "https://localhost:8080/",
          "height": 206
        },
        "id": "c4HChDfD8g_X",
        "outputId": "8069f3b2-4a1c-47d2-b5a6-a4e36e4c0a94"
      },
      "outputs": [],
      "source": [
        "# Remove row 1562 (remember, index in Python starts from 0)\n",
        "df = df.drop(1561, axis=0)\n",
        "\n",
        "# Reset index if you want to reindex the DataFrame after removal\n",
        "df = df.reset_index(drop=True)\n",
        "\n",
        "# Display the updated DataFrame\n",
        "df.head()"
      ]
    },
    {
      "cell_type": "code",
      "execution_count": null,
      "metadata": {
        "colab": {
          "base_uri": "https://localhost:8080/"
        },
        "id": "xEP10GfGm6Ev",
        "outputId": "9f3f784f-96fe-4e2b-b8c0-2dc04c15ab1b"
      },
      "outputs": [],
      "source": [
        "y=list(df['exp'])\n",
        "y"
      ]
    },
    {
      "cell_type": "code",
      "execution_count": null,
      "metadata": {
        "id": "mU_4me2Wnw21"
      },
      "outputs": [],
      "source": [
        "# Convert to the desired format\n",
        "formatted_values = [[[y_t]] for y_t in y]\n",
        "# Print the formatted list\n",
        "len(formatted_values)\n",
        "y=formatted_values"
      ]
    },
    {
      "cell_type": "code",
      "execution_count": null,
      "metadata": {
        "id": "Si7O1SHMn2Gm"
      },
      "outputs": [],
      "source": [
        "SMILES=list(df['smiles'])"
      ]
    },
    {
      "cell_type": "code",
      "execution_count": null,
      "metadata": {
        "id": "4aClnElOn2Nk"
      },
      "outputs": [],
      "source": [
        "smiles_list=SMILES_rt=SMILES\n",
        "SMILES_list=SMILES"
      ]
    },
    {
      "cell_type": "code",
      "execution_count": null,
      "metadata": {
        "colab": {
          "base_uri": "https://localhost:8080/"
        },
        "id": "2GHYe0MmXxe4",
        "outputId": "1eb59b1b-8e79-4643-a945-5247f549f11a"
      },
      "outputs": [],
      "source": [
        "!pip install rdkit"
      ]
    },
    {
      "cell_type": "markdown",
      "metadata": {
        "id": "HX9Q-mUdn_ZA"
      },
      "source": [
        "Features"
      ]
    },
    {
      "cell_type": "code",
      "execution_count": null,
      "metadata": {
        "colab": {
          "base_uri": "https://localhost:8080/"
        },
        "id": "-UBOxV1_oHWA",
        "outputId": "f95a4d46-8532-4460-c1a7-244944a62efa"
      },
      "outputs": [],
      "source": [
        "!pip install rdkit"
      ]
    },
    {
      "cell_type": "code",
      "execution_count": null,
      "metadata": {
        "id": "Xd4lyKGJn2R7"
      },
      "outputs": [],
      "source": [
        "from rdkit import Chem\n",
        "from rdkit.Chem import rdMolHash\n",
        "import rdkit\n",
        "from rdkit import DataStructs\n",
        "from rdkit import Chem\n",
        "from rdkit.Chem import AllChem, Descriptors\n",
        "from rdkit.Chem import Draw\n",
        "from rdkit.Chem.rdMolDescriptors import CalcMolFormula"
      ]
    },
    {
      "cell_type": "code",
      "execution_count": null,
      "metadata": {
        "id": "Y5_x_nqfoNIV"
      },
      "outputs": [],
      "source": [
        "angles = pd.read_csv('angles.csv', header=None)\n",
        "angles = list(angles.to_numpy().flatten())\n",
        "print(angles)"
      ]
    },
    {
      "cell_type": "code",
      "execution_count": null,
      "metadata": {
        "id": "Ypcz18G7OKuM"
      },
      "outputs": [],
      "source": [
        "dipole_momentum = pd.read_csv('dipole_momentum.csv', header=None)\n",
        "dipole_momentum = list(dipole_momentum.to_numpy().flatten())\n",
        "print(dipole_momentum)"
      ]
    },
    {
      "cell_type": "code",
      "execution_count": null,
      "metadata": {
        "id": "v0VPzrSS9FIp"
      },
      "outputs": [],
      "source": [
        "widths = pd.read_csv('widths.csv', header=None)\n",
        "widths = list(widths.to_numpy().flatten())\n",
        "print(widths)"
      ]
    },
    {
      "cell_type": "code",
      "execution_count": null,
      "metadata": {
        "id": "qDP7Gz1P9FPR"
      },
      "outputs": [],
      "source": [
        "lengths = pd.read_csv('lengths.csv', header=None)\n",
        "lengths = list(lengths.to_numpy().flatten())\n",
        "print(lengths)"
      ]
    },
    {
      "cell_type": "code",
      "execution_count": null,
      "metadata": {
        "id": "pgVAT9W39FSQ"
      },
      "outputs": [],
      "source": [
        "heights = pd.read_csv('heights.csv', header=None)\n",
        "heights = list(heights.to_numpy().flatten())\n",
        "print(heights)"
      ]
    },
    {
      "cell_type": "code",
      "execution_count": null,
      "metadata": {
        "id": "Tg9eKBqB9FVX"
      },
      "outputs": [],
      "source": [
        "volumes = pd.read_csv('volumes.csv', header=None)\n",
        "volumes = list(volumes.to_numpy().flatten())\n",
        "print(volumes)"
      ]
    },
    {
      "cell_type": "code",
      "execution_count": null,
      "metadata": {
        "id": "whhTB3k89FYN"
      },
      "outputs": [],
      "source": [
        "from rdkit import Chem\n",
        "\n",
        "# List of SMILES strings\n",
        "smiles_list = SMILES_rt\n",
        "# Initialize list to store all edge indexes\n",
        "all_edge_indexes = []\n",
        "\n",
        "# Iterate through each SMILES string\n",
        "for smiles in smiles_list:\n",
        "    # Convert SMILES string to RDKit Mol object\n",
        "    mol = Chem.MolFromSmiles(smiles)\n",
        "\n",
        "    # Get atom and bond information\n",
        "    atoms = mol.GetAtoms()\n",
        "    bonds = mol.GetBonds()\n",
        "\n",
        "    # Initialize edge indexes list for this SMILES\n",
        "    edge_indexes = []\n",
        "\n",
        "    # Iterate through bonds to get the edge indexes\n",
        "    for bond in bonds:\n",
        "        begin_idx = bond.GetBeginAtomIdx()\n",
        "        end_idx = bond.GetEndAtomIdx()\n",
        "        edge_indexes.append([begin_idx, end_idx])\n",
        "        edge_indexes.append([end_idx, begin_idx])  # Add the reverse direction as well\n",
        "\n",
        "    # Append the edge indexes for this SMILES to the overall list\n",
        "    all_edge_indexes.append(edge_indexes)\n",
        "\n",
        "edge_index=all_edge_indexes\n",
        "#edge_index"
      ]
    },
    {
      "cell_type": "code",
      "execution_count": null,
      "metadata": {
        "id": "qMWKZjTDFg1n"
      },
      "outputs": [],
      "source": []
    },
    {
      "cell_type": "code",
      "execution_count": null,
      "metadata": {
        "colab": {
          "base_uri": "https://localhost:8080/"
        },
        "id": "firQpnw-0rWB",
        "outputId": "fd32a617-f718-4ba1-b0b7-c53fa409ff07"
      },
      "outputs": [],
      "source": [
        "from rdkit import Chem\n",
        "from rdkit.Chem import rdMolDescriptors\n",
        "\n",
        "# A dictionary mapping atomic numbers to electronegativity values (values taken from Pauling scale)\n",
        "electronegativity_dict = {\n",
        "    1: 2.20,   # Hydrogen\n",
        "    6: 2.55,   # Carbon\n",
        "    7: 3.04,   # Nitrogen\n",
        "    8: 3.44,   # Oxygen\n",
        "    9: 3.98,   # Fluorine\n",
        "    16: 2.58,  # Sulfur\n",
        "    17: 2.96,  # Chlorine\n",
        "    35: 2.66,  # Bromine\n",
        "    53: 2.66,  # Iodine\n",
        "    11: 0.93,  # Sodium\n",
        "    12: 1.31,  # Magnesium\n",
        "    # Add more elements as needed for your use case\n",
        "}\n",
        "\n",
        "x = []\n",
        "di = 0\n",
        "\n",
        "while di < len(SMILES_list):\n",
        "    # Define the SMILES notation of the molecule\n",
        "    smiles = SMILES_list[di]\n",
        "\n",
        "    # Convert SMILES to an RDKit molecule object\n",
        "    mol = Chem.MolFromSmiles(smiles)\n",
        "\n",
        "    # Initialize an empty list to store element information\n",
        "    result = []\n",
        "\n",
        "    # Calculate global features for the molecule\n",
        "    min_degree = min(atom.GetDegree() for atom in mol.GetAtoms())  # Minimum degree of atoms in the molecule\n",
        "    num_hbond_donors = sum(1 for atom in mol.GetAtoms() if atom.GetSymbol() == 'O' and atom.GetTotalNumHs() > 0)  # Number of hydrogen bond donors\n",
        "    num_rings = len(mol.GetRingInfo().AtomRings())  # Number of rings in the molecule\n",
        "    num_rotatable_bonds = rdMolDescriptors.CalcNumRotatableBonds(mol)  # Number of rotatable bonds\n",
        "    polar_surface_area = rdMolDescriptors.CalcTPSA(mol)  # Topological Polar Surface Area\n",
        "\n",
        "    # Additional chemical properties from RDKit\n",
        "    molecular_weight = rdMolDescriptors.CalcExactMolWt(mol)  # Molecular weight\n",
        "    logP = rdMolDescriptors.CalcCrippenDescriptors(mol)[0]  # LogP (octanol-water partition coefficient)\n",
        "    # refractivity = rdMolDescriptors.CalcRefractivity(mol)  # Refractivity\n",
        "\n",
        "    # Additional properties for the molecule\n",
        "    num_atoms = mol.GetNumAtoms()  # Number of atoms in the molecule\n",
        "    # num_heavy_atoms = mol.CountAtoms() - mol.GetNumAtoms()  # Number of non-hydrogen atoms\n",
        "    hba = rdMolDescriptors.CalcNumHBA(mol)  # Number of hydrogen bond acceptors\n",
        "    hbd = rdMolDescriptors.CalcNumHBD(mol)  # Number of hydrogen bond donors\n",
        "    fraction_sp2 = sum(1 for atom in mol.GetAtoms() if atom.GetHybridization() == Chem.HybridizationType.SP2) / num_atoms  # Fraction of SP2 atoms\n",
        "\n",
        "    # Calculate global properties related to atom's characteristics\n",
        "    is_in_ring = int(len(mol.GetRingInfo().AtomRings()) > 0)  # Global ring feature: Does the molecule contain any rings?\n",
        "    is_aromatic = int(any(atom.GetIsAromatic() for atom in mol.GetAtoms()))  # Global aromaticity: Is the molecule aromatic?\n",
        "    formal_charge = sum(atom.GetFormalCharge() for atom in mol.GetAtoms())  # Global formal charge of the molecule\n",
        "    valence = sum(atom.GetTotalValence() for atom in mol.GetAtoms())  # Global valence: Sum of all atom valences in the molecule\n",
        "\n",
        "    # General electronegativity: Calculate the average electronegativity of all atoms\n",
        "    total_electronegativity = sum(electronegativity_dict.get(atom.GetAtomicNum(), 0) for atom in mol.GetAtoms())\n",
        "    general_electronegativity = total_electronegativity / num_atoms if num_atoms > 0 else 0  # Average electronegativity\n",
        "\n",
        "    # Now, let's create a list of global features that will be added to each atom's feature set\n",
        "    global_features = [\n",
        "        min_degree,             # Minimum degree of atoms in the molecule\n",
        "        num_hbond_donors,      # Number of hydrogen bond donors\n",
        "        num_rings,             # Number of rings in the molecule\n",
        "        num_rotatable_bonds,   # Number of rotatable bonds\n",
        "        polar_surface_area,    # Polar surface area\n",
        "        molecular_weight,      # Molecular weight\n",
        "        #logP,                  # LogP (octanol-water partition coefficient)\n",
        "        # refractivity,        # Refractivity\n",
        "        num_atoms,             # Number of atoms\n",
        "        hba,                   # Hydrogen bond acceptors\n",
        "        hbd,                   # Hydrogen bond donors\n",
        "        fraction_sp2,          # Fraction of SP2 hybridized atoms\n",
        "        valence,               # Global valence (sum of all atom valences)\n",
        "        general_electronegativity,  # General electronegativity (average of all atoms' electronegativity)\n",
        "    ]\n",
        "\n",
        "    # Iterate through each atom in the molecule\n",
        "    for atom in mol.GetAtoms():\n",
        "        element = atom.GetSymbol()\n",
        "\n",
        "        # Define features that are related to general chemical activity\n",
        "        features = [\n",
        "            is_in_ring,            # Whether the molecule contains any rings\n",
        "            is_aromatic,           # Whether the molecule is aromatic\n",
        "            formal_charge,         # Global formal charge of the molecule\n",
        "            int(atom.GetDegree()), # Atomic degree (number of bonds)\n",
        "            int(atom.GetAtomicNum()),  # Atomic number\n",
        "            int(atom.GetTotalNumHs()), # Number of hydrogens\n",
        "            int(atom.GetTotalValence()), # Atomic valence\n",
        "            int(atom.GetNumRadicalElectrons()),  # Number of radical electrons\n",
        "            int(atom.GetFormalCharge()), # Formal charge on the atom\n",
        "            int(atom.GetHybridization()), # Hybridization of the atom\n",
        "            int((atom.GetMass() - 10.812) / 116.092),  # Normalized mass feature\n",
        "            int((atom.GetAtomicNum() - 1.5) / 0.6),\n",
        "            int((atom.GetAtomicNum() - 0.64) / 0.76),\n",
        "            electronegativity_dict.get(atom.GetAtomicNum(), 0),  # Electronegativity (using a dictionary)\n",
        "            int(atom.GetAtomicNum() in electronegativity_dict),  # Whether the atom has defined electronegativity\n",
        "            int(atom.GetNumImplicitHs() > 0),  # If the atom has implicit hydrogens\n",
        "        ]\n",
        "\n",
        "        # Add global features (these are the same for every atom in the molecule)\n",
        "        features.extend(global_features)\n",
        "\n",
        "        # You can add more features related to the chemical reactivity or functionality of the atom\n",
        "        # For example, if the atom is part of a common functional group (like hydroxyl group):\n",
        "        if atom.GetSymbol() == 'O' and any(neighbor.GetSymbol() == 'H' for neighbor in atom.GetNeighbors()):\n",
        "            features.append(1)  # Hydroxyl group (-OH) presence\n",
        "        else:\n",
        "            features.append(0)\n",
        "\n",
        "        # Add additional features from other lists (volumes, widths, lengths, etc.)\n",
        "        for additional_list in [volumes, widths, lengths, heights, dipole_momentum, angles]:\n",
        "            additional_feature = additional_list[di]  # Assuming these lists are defined and aligned with SMILES_list\n",
        "            features.append(additional_feature)\n",
        "\n",
        "        # Append the element information to the list\n",
        "        result.append(features)\n",
        "\n",
        "    # Append the result for the current molecule to x\n",
        "    x.append(result)\n",
        "    di += 1\n",
        "\n",
        "# Print the final list of features\n",
        "print(\"x =\", x)"
      ]
    },
    {
      "cell_type": "code",
      "execution_count": null,
      "metadata": {
        "colab": {
          "base_uri": "https://localhost:8080/"
        },
        "id": "bGkBVxBkX5gp",
        "outputId": "f4781464-3466-460b-9dc6-c11ac7094493"
      },
      "outputs": [],
      "source": [
        "from rdkit import Chem\n",
        "from rdkit.Chem import rdMolDescriptors\n",
        "\n",
        "# A dictionary mapping atomic numbers to electronegativity values (values taken from Pauling scale)\n",
        "electronegativity_dict = {\n",
        "    1: 2.20,   # Hydrogen\n",
        "    6: 2.55,   # Carbon\n",
        "    7: 3.04,   # Nitrogen\n",
        "    8: 3.44,   # Oxygen\n",
        "    9: 3.98,   # Fluorine\n",
        "    16: 2.58,  # Sulfur\n",
        "    17: 2.96,  # Chlorine\n",
        "    35: 2.66,  # Bromine\n",
        "    53: 2.66,  # Iodine\n",
        "    11: 0.93,  # Sodium\n",
        "    12: 1.31,  # Magnesium\n",
        "    # Add more elements as needed for your use case\n",
        "}\n",
        "\n",
        "x = []\n",
        "di = 0\n",
        "\n",
        "while di < len(SMILES_list):\n",
        "    # Define the SMILES notation of the molecule\n",
        "    smiles = SMILES_list[di]\n",
        "\n",
        "    # Convert SMILES to an RDKit molecule object\n",
        "    mol = Chem.MolFromSmiles(smiles)\n",
        "\n",
        "    # Initialize an empty list to store element information\n",
        "    result = []\n",
        "\n",
        "    # Calculate global features for the molecule\n",
        "    min_degree = min(atom.GetDegree() for atom in mol.GetAtoms())  # Minimum degree of atoms in the molecule\n",
        "    num_hbond_donors = sum(1 for atom in mol.GetAtoms() if atom.GetSymbol() == 'O' and atom.GetTotalNumHs() > 0)  # Number of hydrogen bond donors\n",
        "    num_rings = len(mol.GetRingInfo().AtomRings())  # Number of rings in the molecule\n",
        "    num_rotatable_bonds = rdMolDescriptors.CalcNumRotatableBonds(mol)  # Number of rotatable bonds\n",
        "    polar_surface_area = rdMolDescriptors.CalcTPSA(mol)  # Topological Polar Surface Area\n",
        "\n",
        "    # Additional chemical properties from RDKit\n",
        "    molecular_weight = rdMolDescriptors.CalcExactMolWt(mol)  # Molecular weight\n",
        "    logP = rdMolDescriptors.CalcCrippenDescriptors(mol)[0]  # LogP (octanol-water partition coefficient)\n",
        "    # refractivity = rdMolDescriptors.CalcRefractivity(mol)  # Refractivity\n",
        "\n",
        "    # Additional properties for the molecule\n",
        "    num_atoms = mol.GetNumAtoms()  # Number of atoms in the molecule\n",
        "    # num_heavy_atoms = mol.CountAtoms() - mol.GetNumAtoms()  # Number of non-hydrogen atoms\n",
        "    hba = rdMolDescriptors.CalcNumHBA(mol)  # Number of hydrogen bond acceptors\n",
        "    hbd = rdMolDescriptors.CalcNumHBD(mol)  # Number of hydrogen bond donors\n",
        "    fraction_sp2 = sum(1 for atom in mol.GetAtoms() if atom.GetHybridization() == Chem.HybridizationType.SP2) / num_atoms  # Fraction of SP2 atoms\n",
        "\n",
        "    # Calculate global properties related to atom's characteristics\n",
        "    is_in_ring = int(len(mol.GetRingInfo().AtomRings()) > 0)  # Global ring feature: Does the molecule contain any rings?\n",
        "    is_aromatic = int(any(atom.GetIsAromatic() for atom in mol.GetAtoms()))  # Global aromaticity: Is the molecule aromatic?\n",
        "    formal_charge = sum(atom.GetFormalCharge() for atom in mol.GetAtoms())  # Global formal charge of the molecule\n",
        "    valence = sum(atom.GetTotalValence() for atom in mol.GetAtoms())  # Global valence: Sum of all atom valences in the molecule\n",
        "\n",
        "    # General electronegativity: Calculate the average electronegativity of all atoms\n",
        "    total_electronegativity = sum(electronegativity_dict.get(atom.GetAtomicNum(), 0) for atom in mol.GetAtoms())\n",
        "    general_electronegativity = total_electronegativity / num_atoms if num_atoms > 0 else 0  # Average electronegativity\n",
        "\n",
        "    # Now, let's create a list of global features that will be added to each atom's feature set\n",
        "    global_features = [\n",
        "        min_degree,             # Minimum degree of atoms in the molecule\n",
        "        num_hbond_donors,      # Number of hydrogen bond donors\n",
        "        num_rings,             # Number of rings in the molecule\n",
        "        num_rotatable_bonds,   # Number of rotatable bonds\n",
        "        polar_surface_area,    # Polar surface area\n",
        "        molecular_weight,      # Molecular weight\n",
        "        #logP,                  # LogP (octanol-water partition coefficient)\n",
        "        # refractivity,        # Refractivity\n",
        "        num_atoms,             # Number of atoms\n",
        "        hba,                   # Hydrogen bond acceptors\n",
        "        hbd,                   # Hydrogen bond donors\n",
        "        fraction_sp2,          # Fraction of SP2 hybridized atoms\n",
        "        valence,               # Global valence (sum of all atom valences)\n",
        "        general_electronegativity,  # General electronegativity (average of all atoms' electronegativity)\n",
        "    ]\n",
        "\n",
        "    # Iterate through each atom in the molecule\n",
        "    for atom in mol.GetAtoms():\n",
        "        element = atom.GetSymbol()\n",
        "\n",
        "        # Define features that are related to general chemical activity\n",
        "        features = [\n",
        "            is_in_ring,            # Whether the molecule contains any rings\n",
        "            is_aromatic,           # Whether the molecule is aromatic\n",
        "            formal_charge,         # Global formal charge of the molecule\n",
        "            int(atom.GetDegree()), # Atomic degree (number of bonds)\n",
        "            int(atom.GetAtomicNum()),  # Atomic number\n",
        "            int(atom.GetTotalNumHs()), # Number of hydrogens\n",
        "            int(atom.GetTotalValence()), # Atomic valence\n",
        "            int(atom.GetNumRadicalElectrons()),  # Number of radical electrons\n",
        "            int(atom.GetFormalCharge()), # Formal charge on the atom\n",
        "            int(atom.GetHybridization()), # Hybridization of the atom\n",
        "            int((atom.GetMass() - 10.812) / 116.092),  # Normalized mass feature\n",
        "            int((atom.GetAtomicNum() - 1.5) / 0.6),\n",
        "            int((atom.GetAtomicNum() - 0.64) / 0.76),\n",
        "            electronegativity_dict.get(atom.GetAtomicNum(), 0),  # Electronegativity (using a dictionary)\n",
        "            int(atom.GetAtomicNum() in electronegativity_dict),  # Whether the atom has defined electronegativity\n",
        "            int(atom.GetNumImplicitHs() > 0),  # If the atom has implicit hydrogens\n",
        "        ]\n",
        "\n",
        "        # Add global features (these are the same for every atom in the molecule)\n",
        "        features.extend(global_features)\n",
        "\n",
        "        # You can add more features related to the chemical reactivity or functionality of the atom\n",
        "        # For example, if the atom is part of a common functional group (like hydroxyl group):\n",
        "        if atom.GetSymbol() == 'O' and any(neighbor.GetSymbol() == 'H' for neighbor in atom.GetNeighbors()):\n",
        "            features.append(1)  # Hydroxyl group (-OH) presence\n",
        "        else:\n",
        "            features.append(0)\n",
        "\n",
        "        # Add additional features from other lists (volumes, widths, lengths, etc.)\n",
        "        for additional_list in [volumes, widths, lengths, heights, dipole_momentum, angles]:\n",
        "            additional_feature = additional_list[di]  # Assuming these lists are defined and aligned with SMILES_list\n",
        "            features.append(additional_feature)\n",
        "\n",
        "        # Append the element information to the list\n",
        "        result.append(features)\n",
        "\n",
        "    # Append the result for the current molecule to x\n",
        "    x.append(result)\n",
        "    di += 1\n",
        "\n",
        "# Print the final list of features\n",
        "print(\"x =\", x)"
      ]
    },
    {
      "cell_type": "code",
      "execution_count": null,
      "metadata": {},
      "outputs": [],
      "source": [
        "import torch\n",
        "import torch.nn as nn\n",
        "import torch.optim as optim\n",
        "import numpy as np\n",
        "from torch_geometric.data import Data\n",
        "from torch_geometric.nn import GATConv\n",
        "from torch_geometric.utils import add_self_loops\n",
        "import random\n",
        "import csv\n",
        "import os\n",
        "\n",
        "# Create directory for logs if it doesn't exist\n",
        "os.makedirs('logs', exist_ok=True)\n",
        "\n",
        "# Define your GSR model\n",
        "class GSR(nn.Module):\n",
        "    def __init__(self, in_channels, hidden_channels, out_channels):\n",
        "        super(GSR, self).__init__()\n",
        "        self.conv1 = GATConv(in_channels, hidden_channels)\n",
        "        self.conv2 = GATConv(hidden_channels, hidden_channels)\n",
        "        self.conv4 = GATConv(hidden_channels, hidden_channels)\n",
        "        self.conv5 = GATConv(hidden_channels, hidden_channels)\n",
        "        self.conv3 = GATConv(hidden_channels, out_channels)  # Output layer\n",
        "\n",
        "    def forward(self, data):\n",
        "        x, edge_index = data.x, data.edge_index\n",
        "        edge_index, _ = add_self_loops(edge_index, num_nodes=x.size(0))\n",
        "\n",
        "        # Apply the graph convolutional layers\n",
        "        x = self.conv1(x, edge_index)\n",
        "        x = torch.tanh(x)\n",
        "\n",
        "        x = self.conv2(x, edge_index)\n",
        "        x = torch.tanh(x)\n",
        "\n",
        "        x = self.conv4(x, edge_index)\n",
        "        x = torch.tanh(x)\n",
        "\n",
        "        x = self.conv5(x, edge_index)\n",
        "        x = torch.tanh(x)\n",
        "\n",
        "        # Final output layer\n",
        "        x = self.conv3(x, edge_index)\n",
        "\n",
        "        return x\n",
        "\n",
        "# Assuming `x`, `edge_index`, and `y` are the data variables provided\n",
        "# Convert data into Data objects\n",
        "data_list = []\n",
        "for i in range(len(x)):\n",
        "    x_graph = torch.tensor(x[i], dtype=torch.float32)\n",
        "    edge_index_graph = torch.tensor(edge_index[i], dtype=torch.long).t().contiguous()\n",
        "    y_graph = torch.tensor(y[i], dtype=torch.float32)\n",
        "\n",
        "    data_graph = Data(x=x_graph, edge_index=edge_index_graph, y=y_graph)\n",
        "    data_list.append(data_graph)\n",
        "\n",
        "train_data = data_list[:int(0.8*len(data_list))]\n",
        "val_data = data_list[int(0.8*len(data_list)):int(0.9*len(data_list))]\n",
        "test_data = data_list[int(0.9*len(data_list)):]\n",
        "\n",
        "# No batching, so DataLoader is not used here\n",
        "train_loader = train_data\n",
        "val_loader = val_data\n",
        "test_loader = test_data\n",
        "\n",
        "# Initialize the GSR model\n",
        "model = GSR(in_channels=35, hidden_channels=28, out_channels=1)\n",
        "optimizer = optim.RMSprop(model.parameters(), lr=0.00075)\n",
        "criterion = nn.MSELoss()\n",
        "\n",
        "# Function to compute RMSE\n",
        "def compute_rmse(predictions, targets):\n",
        "    # Calculate the RMSE by taking the square root of MSE\n",
        "    mse = ((predictions - targets) ** 2).mean()\n",
        "    rmse = torch.sqrt(mse)\n",
        "    return rmse\n",
        "\n",
        "# Setup CSV files for logging\n",
        "metrics_file = open('logs/metrics.csv', 'w', newline='')\n",
        "metrics_writer = csv.writer(metrics_file)\n",
        "metrics_writer.writerow(['Epoch', 'Train_Loss', 'Train_RMSE', 'Val_Loss', 'Val_RMSE', 'Test_Loss', 'Test_RMSE'])\n",
        "\n",
        "# Training loop\n",
        "for epoch in range(1250):\n",
        "    model.train()\n",
        "    total_loss = 0\n",
        "    total_train_rmse = 0\n",
        "\n",
        "\n",
        "    # Training on individual graphs\n",
        "    for idx, data_graph in enumerate(train_loader):\n",
        "        optimizer.zero_grad()\n",
        "        output = model(data_graph)\n",
        "        loss = criterion(output, data_graph.y)\n",
        "        loss.backward()\n",
        "        optimizer.step()\n",
        "        total_loss += loss.item()\n",
        "\n",
        "        # Calculate RMSE for each batch in the training set\n",
        "        train_rmse = compute_rmse(output, data_graph.y)\n",
        "        total_train_rmse += train_rmse.item()\n",
        "\n",
        "    # Evaluate on the validation and test data every 50 epochs\n",
        "    if epoch % 50 == 0:\n",
        "        model.eval()\n",
        "        val_loss = 0\n",
        "        total_val_rmse = 0\n",
        "        \n",
        "        # Create epoch-specific CSV files for y_test and y_pred\n",
        "        y_test_file = open(f'logs/y_test_epoch_{epoch}.csv', 'w', newline='')\n",
        "        y_pred_file = open(f'logs/y_pred_epoch_{epoch}.csv', 'w', newline='')\n",
        "        y_test_writer = csv.writer(y_test_file)\n",
        "        y_pred_writer = csv.writer(y_pred_file)\n",
        "        \n",
        "        # Write headers\n",
        "        y_test_writer.writerow(['Sample_ID', 'y_test'])\n",
        "        y_pred_writer.writerow(['Sample_ID', 'y_pred'])\n",
        "        \n",
        "        with torch.no_grad():\n",
        "            # Validation\n",
        "            for i, data_graph in enumerate(val_loader):\n",
        "                y_pred = model(data_graph)\n",
        "                batch_val_loss = criterion(y_pred, data_graph.y)\n",
        "                val_loss += batch_val_loss.item()\n",
        "\n",
        "                # Calculate RMSE for validation\n",
        "                val_rmse = compute_rmse(y_pred, data_graph.y)\n",
        "                total_val_rmse += val_rmse.item()\n",
        "\n",
        "                # Print RMSE and loss for each element in the validation set\n",
        "                #print(f\"element {i}, Epoch {epoch}: Validation Loss: {batch_val_loss.item():.4f}\")\n",
        "                #print(f\"element {i}, Epoch {epoch}: Validation RMSE: {val_rmse.item():.4f}\")\n",
        "                #print(f'y_val: {data_graph.y.tolist()}, y_pred: {y_pred.tolist()}')\n",
        "\n",
        "            # Testing\n",
        "            test_loss = 0\n",
        "            total_test_rmse = 0\n",
        "            for i, data_graph in enumerate(test_loader):\n",
        "                y_pred = model(data_graph)\n",
        "                batch_test_loss = criterion(y_pred, data_graph.y)\n",
        "                test_loss += batch_test_loss.item()\n",
        "\n",
        "                # Calculate RMSE for test\n",
        "                test_rmse = compute_rmse(y_pred, data_graph.y)\n",
        "                total_test_rmse += test_rmse.item()\n",
        "\n",
        "                # Print RMSE and loss for each element in the test set\n",
        "                print(f\"element {i}, Epoch {epoch}: Test Loss: {batch_test_loss.item():.4f}\")\n",
        "                print(f\"element {i}, Epoch {epoch}: Test RMSE: {test_rmse.item():.4f}\")\n",
        "                print(f'y_test: {data_graph.y.tolist()}, y_pred: {y_pred.tolist()}')\n",
        "                \n",
        "                # Write y_test and y_pred values to respective CSV files\n",
        "                for j, (y_t, y_p) in enumerate(zip(data_graph.y.tolist(), y_pred.tolist())):\n",
        "                    sample_id = f'test_{i}_{j}'\n",
        "                    y_test_writer.writerow([sample_id, y_t])\n",
        "                    y_pred_writer.writerow([sample_id, y_p])\n",
        "\n",
        "        # Close the y_test and y_pred files\n",
        "        y_test_file.close()\n",
        "        y_pred_file.close()\n",
        "        \n",
        "        # Calculate averages\n",
        "        avg_train_loss = total_loss/len(train_loader)\n",
        "        avg_train_rmse = total_train_rmse/len(train_loader)\n",
        "        avg_val_loss = val_loss/len(val_loader)\n",
        "        avg_val_rmse = total_val_rmse/len(val_loader)\n",
        "        avg_test_loss = test_loss/len(test_loader)\n",
        "        avg_test_rmse = total_test_rmse/len(test_loader)\n",
        "        # Write metrics to CSV\n",
        "        metrics_writer.writerow([epoch, avg_train_loss, avg_train_rmse, \n",
        "                                avg_val_loss, avg_val_rmse, \n",
        "                                avg_test_loss, avg_test_rmse])\n",
        "        metrics_file.flush()  # Ensure data is written to file\n",
        "\n",
        "        # Print average RMSE and loss every 50 epochs\n",
        "        #print(f\"Epoch {epoch}, Average Training Loss: {avg_train_loss:.4f}\")\n",
        "        #print(f\"Epoch {epoch}, Average Training RMSE: {avg_train_rmse:.4f}\")\n",
        "        #print(f\"Epoch {epoch}, Average Validation Loss: {avg_val_loss:.4f}\")\n",
        "        #print(f\"Epoch {epoch}, Average Validation RMSE: {avg_val_rmse:.4f}\")\n",
        "        #print(f\"Epoch {epoch}, Average Test Loss: {avg_test_loss:.4f}\")\n",
        "        #print(f\"Epoch {epoch}, Average Test RMSE: {avg_test_rmse:.4f}\")\n",
        "    print(epoch, total_loss, total_train_rmse)\n",
        "\n",
        "# Close the metrics file\n",
        "metrics_file.close()"
      ]
    }
  ],
  "metadata": {
    "accelerator": "GPU",
    "colab": {
      "gpuType": "T4",
      "provenance": []
    },
    "kernelspec": {
      "display_name": "base",
      "language": "python",
      "name": "python3"
    },
    "language_info": {
      "codemirror_mode": {
        "name": "ipython",
        "version": 3
      },
      "file_extension": ".py",
      "mimetype": "text/x-python",
      "name": "python",
      "nbconvert_exporter": "python",
      "pygments_lexer": "ipython3",
      "version": "3.12.7"
    }
  },
  "nbformat": 4,
  "nbformat_minor": 0
}
